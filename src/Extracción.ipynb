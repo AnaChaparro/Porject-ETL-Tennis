{
 "cells": [
  {
   "cell_type": "markdown",
   "id": "d92f73df",
   "metadata": {},
   "source": [
    "# Poroyecto ETL. Tennis."
   ]
  },
  {
   "cell_type": "markdown",
   "id": "71e9e1f0",
   "metadata": {},
   "source": [
    "En primer lugar se procede con la extracción de datos, que según las bases del proyecto hay que establecer tres y dos métodos de extracción.\n",
    "\n",
    "Las fuentes elegidas son kaggle, y las páginas web de la ESPN y la ATP.\n",
    "\n",
    "En primero lugar se descarga el archivo de kaggle y se realiza el escrapeo de las tabalas que interesan de las webs mencionadas.\n"
   ]
  },
  {
   "cell_type": "markdown",
   "id": "61b958d2",
   "metadata": {},
   "source": [
    "### Scraping  de la web de la ATP."
   ]
  },
  {
   "cell_type": "markdown",
   "id": "8f40c4c8",
   "metadata": {},
   "source": [
    "El scraping se va a realizar con Selenium."
   ]
  },
  {
   "cell_type": "code",
   "execution_count": 1,
   "id": "bafb4952",
   "metadata": {},
   "outputs": [
    {
     "name": "stdout",
     "output_type": "stream",
     "text": [
      "Requirement already satisfied: webdriver-manager in /Users/anachaparrohernandez/opt/anaconda3/envs/clase/lib/python3.7/site-packages (3.8.4)\n",
      "Requirement already satisfied: python-dotenv in /Users/anachaparrohernandez/opt/anaconda3/envs/clase/lib/python3.7/site-packages (from webdriver-manager) (0.21.0)\n",
      "Requirement already satisfied: tqdm in /Users/anachaparrohernandez/opt/anaconda3/envs/clase/lib/python3.7/site-packages (from webdriver-manager) (4.64.1)\n",
      "Requirement already satisfied: requests in /Users/anachaparrohernandez/opt/anaconda3/envs/clase/lib/python3.7/site-packages (from webdriver-manager) (2.28.1)\n",
      "Requirement already satisfied: urllib3<1.27,>=1.21.1 in /Users/anachaparrohernandez/opt/anaconda3/envs/clase/lib/python3.7/site-packages (from requests->webdriver-manager) (1.26.12)\n",
      "Requirement already satisfied: idna<4,>=2.5 in /Users/anachaparrohernandez/opt/anaconda3/envs/clase/lib/python3.7/site-packages (from requests->webdriver-manager) (3.4)\n",
      "Requirement already satisfied: charset-normalizer<3,>=2 in /Users/anachaparrohernandez/opt/anaconda3/envs/clase/lib/python3.7/site-packages (from requests->webdriver-manager) (2.1.1)\n",
      "Requirement already satisfied: certifi>=2017.4.17 in /Users/anachaparrohernandez/opt/anaconda3/envs/clase/lib/python3.7/site-packages (from requests->webdriver-manager) (2022.9.24)\n",
      "Note: you may need to restart the kernel to use updated packages.\n"
     ]
    }
   ],
   "source": [
    "%pip install webdriver-manager"
   ]
  },
  {
   "cell_type": "code",
   "execution_count": 2,
   "id": "d9607f10",
   "metadata": {},
   "outputs": [],
   "source": [
    "from selenium import webdriver"
   ]
  },
  {
   "cell_type": "code",
   "execution_count": 3,
   "id": "01b59cfd",
   "metadata": {},
   "outputs": [],
   "source": [
    "from selenium import webdriver\n",
    "import pandas as pd\n",
    "from selenium.webdriver.chrome.options import Options\n",
    "from webdriver_manager.chrome import ChromeDriverManager"
   ]
  },
  {
   "cell_type": "code",
   "execution_count": 4,
   "id": "8d237e6a",
   "metadata": {},
   "outputs": [],
   "source": [
    "from selenium import webdriver"
   ]
  },
  {
   "cell_type": "code",
   "execution_count": 5,
   "id": "2d1ce3e0",
   "metadata": {},
   "outputs": [],
   "source": [
    "from webdriver_manager.chrome import ChromeDriverManager\n",
    "\n",
    "PATH=ChromeDriverManager().install()"
   ]
  },
  {
   "cell_type": "code",
   "execution_count": 6,
   "id": "ad23b5eb",
   "metadata": {},
   "outputs": [],
   "source": [
    "from selenium.webdriver.common.by import By   \n",
    "\n",
    "import time\n",
    "\n",
    "import warnings\n",
    "warnings.filterwarnings('ignore')"
   ]
  },
  {
   "cell_type": "code",
   "execution_count": 7,
   "id": "9de3d20a",
   "metadata": {},
   "outputs": [],
   "source": [
    "#Se indica la url el la que se encuntran las tables de las que se va a hacer el scrapeo:\n",
    "\n",
    "urlatpsaq='https://www.atptour.com/es/stats/leaderboard?boardType=serve&timeFrame=2021&surface=all&versusRank=all&formerNo1=false'"
   ]
  },
  {
   "cell_type": "code",
   "execution_count": 8,
   "id": "aa1810d1",
   "metadata": {},
   "outputs": [],
   "source": [
    "driveratpsaq=webdriver.Chrome(PATH)         \n",
    "\n",
    "driveratpsaq.get(urlatpsaq)"
   ]
  },
  {
   "cell_type": "code",
   "execution_count": 9,
   "id": "6152167a",
   "metadata": {},
   "outputs": [],
   "source": [
    "tableatp1=driveratpsaq.find_element(By.XPATH, '//*[@id=\"statsListingTableContent\"]/table')\n",
    "\n",
    "saque=[[e.text for e in f.find_elements(By.TAG_NAME, 'td')] \n",
    "      for f in tableatp1.find_elements(By.TAG_NAME, 'tr')]\n"
   ]
  },
  {
   "cell_type": "code",
   "execution_count": 10,
   "id": "fcc994ec",
   "metadata": {},
   "outputs": [
    {
     "data": {
      "text/plain": [
       "[[],\n",
       " ['1',\n",
       "  'John Isner',\n",
       "  '314.8',\n",
       "  '68.7%',\n",
       "  '79.3%',\n",
       "  '56.0%',\n",
       "  '92.2%',\n",
       "  '20.6',\n",
       "  '2.0'],\n",
       " ['2',\n",
       "  'Reilly Opelka',\n",
       "  '300.6',\n",
       "  '65.7%',\n",
       "  '77.1%',\n",
       "  '54.8%',\n",
       "  '88.3%',\n",
       "  '17.1',\n",
       "  '2.4']]"
      ]
     },
     "execution_count": 10,
     "metadata": {},
     "output_type": "execute_result"
    }
   ],
   "source": [
    "saque[:3]"
   ]
  },
  {
   "cell_type": "code",
   "execution_count": 11,
   "id": "05a2eea5",
   "metadata": {},
   "outputs": [
    {
     "data": {
      "text/plain": [
       "[['Efectividad Al Saque ©',\n",
       "  'Jugador',\n",
       "  'Efectividad Al Saque ©',\n",
       "  '% 1er Servicio',\n",
       "  '% Puntos Ganados 1er Saque',\n",
       "  '% Puntos Ganados 2do Saque',\n",
       "  '% Games Ganados Saque',\n",
       "  'Prom. Aces Por Partido',\n",
       "  'Prom. Dobles Por Partido']]"
      ]
     },
     "execution_count": 11,
     "metadata": {},
     "output_type": "execute_result"
    }
   ],
   "source": [
    "colssaque = [e.text.split('\\n') for e in driveratpsaq.find_elements(By.CLASS_NAME, 'leaderboard-table-header')]\n",
    "colssaque"
   ]
  },
  {
   "cell_type": "code",
   "execution_count": 12,
   "id": "29b99a70",
   "metadata": {},
   "outputs": [],
   "source": [
    "driveratpsaq.quit()"
   ]
  },
  {
   "cell_type": "code",
   "execution_count": 13,
   "id": "7c09ff6f",
   "metadata": {},
   "outputs": [
    {
     "data": {
      "text/html": [
       "<div>\n",
       "<style scoped>\n",
       "    .dataframe tbody tr th:only-of-type {\n",
       "        vertical-align: middle;\n",
       "    }\n",
       "\n",
       "    .dataframe tbody tr th {\n",
       "        vertical-align: top;\n",
       "    }\n",
       "\n",
       "    .dataframe thead tr th {\n",
       "        text-align: left;\n",
       "    }\n",
       "</style>\n",
       "<table border=\"1\" class=\"dataframe\">\n",
       "  <thead>\n",
       "    <tr>\n",
       "      <th></th>\n",
       "      <th>Efectividad Al Saque ©</th>\n",
       "      <th>Jugador</th>\n",
       "      <th>Efectividad Al Saque ©</th>\n",
       "      <th>% 1er Servicio</th>\n",
       "      <th>% Puntos Ganados 1er Saque</th>\n",
       "      <th>% Puntos Ganados 2do Saque</th>\n",
       "      <th>% Games Ganados Saque</th>\n",
       "      <th>Prom. Aces Por Partido</th>\n",
       "      <th>Prom. Dobles Por Partido</th>\n",
       "    </tr>\n",
       "  </thead>\n",
       "  <tbody>\n",
       "    <tr>\n",
       "      <th>0</th>\n",
       "      <td>None</td>\n",
       "      <td>None</td>\n",
       "      <td>None</td>\n",
       "      <td>None</td>\n",
       "      <td>None</td>\n",
       "      <td>None</td>\n",
       "      <td>None</td>\n",
       "      <td>None</td>\n",
       "      <td>None</td>\n",
       "    </tr>\n",
       "    <tr>\n",
       "      <th>1</th>\n",
       "      <td>1</td>\n",
       "      <td>John Isner</td>\n",
       "      <td>314.8</td>\n",
       "      <td>68.7%</td>\n",
       "      <td>79.3%</td>\n",
       "      <td>56.0%</td>\n",
       "      <td>92.2%</td>\n",
       "      <td>20.6</td>\n",
       "      <td>2.0</td>\n",
       "    </tr>\n",
       "    <tr>\n",
       "      <th>2</th>\n",
       "      <td>2</td>\n",
       "      <td>Reilly Opelka</td>\n",
       "      <td>300.6</td>\n",
       "      <td>65.7%</td>\n",
       "      <td>77.1%</td>\n",
       "      <td>54.8%</td>\n",
       "      <td>88.3%</td>\n",
       "      <td>17.1</td>\n",
       "      <td>2.4</td>\n",
       "    </tr>\n",
       "    <tr>\n",
       "      <th>3</th>\n",
       "      <td>3</td>\n",
       "      <td>Matteo Berrettini</td>\n",
       "      <td>295.9</td>\n",
       "      <td>64.3%</td>\n",
       "      <td>79.1%</td>\n",
       "      <td>52.8%</td>\n",
       "      <td>89.8%</td>\n",
       "      <td>11.5</td>\n",
       "      <td>1.6</td>\n",
       "    </tr>\n",
       "    <tr>\n",
       "      <th>4</th>\n",
       "      <td>4</td>\n",
       "      <td>Nick Kyrgios</td>\n",
       "      <td>293.7</td>\n",
       "      <td>67.7%</td>\n",
       "      <td>77.1%</td>\n",
       "      <td>51.3%</td>\n",
       "      <td>85.6%</td>\n",
       "      <td>14.4</td>\n",
       "      <td>2.4</td>\n",
       "    </tr>\n",
       "  </tbody>\n",
       "</table>\n",
       "</div>"
      ],
      "text/plain": [
       "  Efectividad Al Saque ©            Jugador Efectividad Al Saque ©  \\\n",
       "0                   None               None                   None   \n",
       "1                      1         John Isner                  314.8   \n",
       "2                      2      Reilly Opelka                  300.6   \n",
       "3                      3  Matteo Berrettini                  295.9   \n",
       "4                      4       Nick Kyrgios                  293.7   \n",
       "\n",
       "  % 1er Servicio % Puntos Ganados 1er Saque % Puntos Ganados 2do Saque  \\\n",
       "0           None                       None                       None   \n",
       "1          68.7%                      79.3%                      56.0%   \n",
       "2          65.7%                      77.1%                      54.8%   \n",
       "3          64.3%                      79.1%                      52.8%   \n",
       "4          67.7%                      77.1%                      51.3%   \n",
       "\n",
       "  % Games Ganados Saque Prom. Aces Por Partido Prom. Dobles Por Partido  \n",
       "0                  None                   None                     None  \n",
       "1                 92.2%                   20.6                      2.0  \n",
       "2                 88.3%                   17.1                      2.4  \n",
       "3                 89.8%                   11.5                      1.6  \n",
       "4                 85.6%                   14.4                      2.4  "
      ]
     },
     "execution_count": 13,
     "metadata": {},
     "output_type": "execute_result"
    }
   ],
   "source": [
    "lid_al_saque = pd.DataFrame(saque, columns=colssaque)\n",
    "lid_al_saque.head()"
   ]
  },
  {
   "cell_type": "markdown",
   "id": "04bc58a5",
   "metadata": {},
   "source": [
    "#### Se obtiene la segunda tabla interesada de la misma manera."
   ]
  },
  {
   "cell_type": "code",
   "execution_count": 14,
   "id": "1c3fc4f5",
   "metadata": {},
   "outputs": [],
   "source": [
    "#El url de la tabla que se quiere obtener:\n",
    "\n",
    "urlatpres='https://www.atptour.com/es/stats/leaderboard?boardType=return&timeFrame=2021&surface=all&versusRank=all&formerNo1=false'"
   ]
  },
  {
   "cell_type": "code",
   "execution_count": 15,
   "id": "08f662fe",
   "metadata": {},
   "outputs": [],
   "source": [
    "driveratpres=webdriver.Chrome(PATH)         \n",
    "\n",
    "driveratpres.get(urlatpres)"
   ]
  },
  {
   "cell_type": "code",
   "execution_count": 16,
   "id": "a17c95ef",
   "metadata": {},
   "outputs": [],
   "source": [
    "#De la misma manera se obtiene la tabla de líderes al resto:\n",
    "\n",
    "tableatp2=driveratpres.find_element(By.XPATH, '//*[@id=\"statsListingTableContent\"]/table')\n",
    "\n",
    "resto=[[e.text for e in f.find_elements(By.TAG_NAME, 'td')] \n",
    "      for f in tableatp2.find_elements(By.TAG_NAME, 'tr')]"
   ]
  },
  {
   "cell_type": "code",
   "execution_count": 17,
   "id": "a4eddec8",
   "metadata": {},
   "outputs": [
    {
     "data": {
      "text/plain": [
       "[[],\n",
       " ['1', 'Rafael Nadal', '171.4', '34.3%', '57.3%', '35.6%', '44.2%'],\n",
       " ['2', 'Novak Djokovic', '171.0', '35.8%', '55.3%', '34.6%', '45.3%']]"
      ]
     },
     "execution_count": 17,
     "metadata": {},
     "output_type": "execute_result"
    }
   ],
   "source": [
    "resto[:3]"
   ]
  },
  {
   "cell_type": "code",
   "execution_count": 18,
   "id": "69f764ce",
   "metadata": {},
   "outputs": [
    {
     "data": {
      "text/plain": [
       "[['Efectividad Al Resto ©',\n",
       "  'Jugador',\n",
       "  'Efectividad Al Resto ©',\n",
       "  '% Restos 1er Saque',\n",
       "  '% Restos 2° Saque',\n",
       "  '% Games Al Resto',\n",
       "  '% Break Points Convertidos']]"
      ]
     },
     "execution_count": 18,
     "metadata": {},
     "output_type": "execute_result"
    }
   ],
   "source": [
    "colsresto = [e.text.split('\\n') for e in driveratpres.find_elements(By.CLASS_NAME, 'leaderboard-table-header')]\n",
    "colsresto"
   ]
  },
  {
   "cell_type": "code",
   "execution_count": 19,
   "id": "b46ba8ff",
   "metadata": {},
   "outputs": [],
   "source": [
    "driveratpres.quit()"
   ]
  },
  {
   "cell_type": "code",
   "execution_count": 20,
   "id": "679b26c8",
   "metadata": {},
   "outputs": [
    {
     "data": {
      "text/html": [
       "<div>\n",
       "<style scoped>\n",
       "    .dataframe tbody tr th:only-of-type {\n",
       "        vertical-align: middle;\n",
       "    }\n",
       "\n",
       "    .dataframe tbody tr th {\n",
       "        vertical-align: top;\n",
       "    }\n",
       "\n",
       "    .dataframe thead tr th {\n",
       "        text-align: left;\n",
       "    }\n",
       "</style>\n",
       "<table border=\"1\" class=\"dataframe\">\n",
       "  <thead>\n",
       "    <tr>\n",
       "      <th></th>\n",
       "      <th>Efectividad Al Resto ©</th>\n",
       "      <th>Jugador</th>\n",
       "      <th>Efectividad Al Resto ©</th>\n",
       "      <th>% Restos 1er Saque</th>\n",
       "      <th>% Restos 2° Saque</th>\n",
       "      <th>% Games Al Resto</th>\n",
       "      <th>% Break Points Convertidos</th>\n",
       "    </tr>\n",
       "  </thead>\n",
       "  <tbody>\n",
       "    <tr>\n",
       "      <th>0</th>\n",
       "      <td>None</td>\n",
       "      <td>None</td>\n",
       "      <td>None</td>\n",
       "      <td>None</td>\n",
       "      <td>None</td>\n",
       "      <td>None</td>\n",
       "      <td>None</td>\n",
       "    </tr>\n",
       "    <tr>\n",
       "      <th>1</th>\n",
       "      <td>1</td>\n",
       "      <td>Rafael Nadal</td>\n",
       "      <td>171.4</td>\n",
       "      <td>34.3%</td>\n",
       "      <td>57.3%</td>\n",
       "      <td>35.6%</td>\n",
       "      <td>44.2%</td>\n",
       "    </tr>\n",
       "    <tr>\n",
       "      <th>2</th>\n",
       "      <td>2</td>\n",
       "      <td>Novak Djokovic</td>\n",
       "      <td>171.0</td>\n",
       "      <td>35.8%</td>\n",
       "      <td>55.3%</td>\n",
       "      <td>34.6%</td>\n",
       "      <td>45.3%</td>\n",
       "    </tr>\n",
       "    <tr>\n",
       "      <th>3</th>\n",
       "      <td>3</td>\n",
       "      <td>Alex Molcan</td>\n",
       "      <td>169.4</td>\n",
       "      <td>35.3%</td>\n",
       "      <td>55.6%</td>\n",
       "      <td>34.7%</td>\n",
       "      <td>43.8%</td>\n",
       "    </tr>\n",
       "    <tr>\n",
       "      <th>4</th>\n",
       "      <td>4</td>\n",
       "      <td>Diego Schwartzman</td>\n",
       "      <td>169.3</td>\n",
       "      <td>35.3%</td>\n",
       "      <td>54.8%</td>\n",
       "      <td>33.8%</td>\n",
       "      <td>45.4%</td>\n",
       "    </tr>\n",
       "  </tbody>\n",
       "</table>\n",
       "</div>"
      ],
      "text/plain": [
       "  Efectividad Al Resto ©            Jugador Efectividad Al Resto ©  \\\n",
       "0                   None               None                   None   \n",
       "1                      1       Rafael Nadal                  171.4   \n",
       "2                      2     Novak Djokovic                  171.0   \n",
       "3                      3        Alex Molcan                  169.4   \n",
       "4                      4  Diego Schwartzman                  169.3   \n",
       "\n",
       "  % Restos 1er Saque % Restos 2° Saque % Games Al Resto  \\\n",
       "0               None              None             None   \n",
       "1              34.3%             57.3%            35.6%   \n",
       "2              35.8%             55.3%            34.6%   \n",
       "3              35.3%             55.6%            34.7%   \n",
       "4              35.3%             54.8%            33.8%   \n",
       "\n",
       "  % Break Points Convertidos  \n",
       "0                       None  \n",
       "1                      44.2%  \n",
       "2                      45.3%  \n",
       "3                      43.8%  \n",
       "4                      45.4%  "
      ]
     },
     "execution_count": 20,
     "metadata": {},
     "output_type": "execute_result"
    }
   ],
   "source": [
    "lid_al_resto = pd.DataFrame(resto, columns=colsresto)\n",
    "lid_al_resto.head()"
   ]
  },
  {
   "cell_type": "markdown",
   "id": "90a885c1",
   "metadata": {},
   "source": [
    "\n",
    "\n",
    "\n",
    "La tercera tabla que se va a utilizar, scrapeada tamnbién con Selenium pertenece a la página web de la ESPN, y nos ofrece información sobre el ranking actual."
   ]
  },
  {
   "cell_type": "code",
   "execution_count": 21,
   "id": "4ea5507d",
   "metadata": {},
   "outputs": [],
   "source": [
    "#El url de la tabla que se quiere obtener:\n",
    "\n",
    "urlaespn='https://espndeportes.espn.com/tenis/rankings/_/temporada/2021'"
   ]
  },
  {
   "cell_type": "code",
   "execution_count": 22,
   "id": "cf9d3eac",
   "metadata": {},
   "outputs": [],
   "source": [
    "driverespn=webdriver.Chrome(PATH)         \n",
    "\n",
    "driverespn.get(urlaespn)"
   ]
  },
  {
   "cell_type": "code",
   "execution_count": 23,
   "id": "53381a2d",
   "metadata": {},
   "outputs": [],
   "source": [
    "tablaespn=driverespn.find_element(By.XPATH, '//*[@id=\"fittPageContainer\"]/div[3]/div/div/section/div/div/section/div[4]/div[2]/div/div[2]')"
   ]
  },
  {
   "cell_type": "code",
   "execution_count": 24,
   "id": "c5303ec4",
   "metadata": {},
   "outputs": [],
   "source": [
    "ranks=[[e.text for e in f.find_elements(By.TAG_NAME, 'td')] \n",
    "      for f in tablaespn.find_elements(By.TAG_NAME, 'tr')]"
   ]
  },
  {
   "cell_type": "code",
   "execution_count": 25,
   "id": "24423772",
   "metadata": {},
   "outputs": [],
   "source": [
    "cabeceras=driverespn.find_element(By.TAG_NAME, 'thead')\n",
    "\n",
    "cabeceras=[c.text for c in cabeceras.find_elements(By.TAG_NAME, 'th')]\n",
    "\n",
    "driverespn.quit()\n"
   ]
  },
  {
   "cell_type": "code",
   "execution_count": 26,
   "id": "5fc4ac54",
   "metadata": {},
   "outputs": [
    {
     "data": {
      "text/html": [
       "<div>\n",
       "<style scoped>\n",
       "    .dataframe tbody tr th:only-of-type {\n",
       "        vertical-align: middle;\n",
       "    }\n",
       "\n",
       "    .dataframe tbody tr th {\n",
       "        vertical-align: top;\n",
       "    }\n",
       "\n",
       "    .dataframe thead th {\n",
       "        text-align: right;\n",
       "    }\n",
       "</style>\n",
       "<table border=\"1\" class=\"dataframe\">\n",
       "  <thead>\n",
       "    <tr style=\"text-align: right;\">\n",
       "      <th></th>\n",
       "      <th>POS</th>\n",
       "      <th>NOMBRE</th>\n",
       "      <th>PUNTOS</th>\n",
       "    </tr>\n",
       "  </thead>\n",
       "  <tbody>\n",
       "    <tr>\n",
       "      <th>0</th>\n",
       "      <td>None</td>\n",
       "      <td>None</td>\n",
       "      <td>None</td>\n",
       "    </tr>\n",
       "    <tr>\n",
       "      <th>1</th>\n",
       "      <td>1</td>\n",
       "      <td>Novak Djokovic</td>\n",
       "      <td>11,540</td>\n",
       "    </tr>\n",
       "    <tr>\n",
       "      <th>2</th>\n",
       "      <td>2</td>\n",
       "      <td>Daniil Medvedev</td>\n",
       "      <td>8,640</td>\n",
       "    </tr>\n",
       "    <tr>\n",
       "      <th>3</th>\n",
       "      <td>3</td>\n",
       "      <td>Alexander Zverev</td>\n",
       "      <td>7,840</td>\n",
       "    </tr>\n",
       "    <tr>\n",
       "      <th>4</th>\n",
       "      <td>4</td>\n",
       "      <td>Stefanos Tsitsipas</td>\n",
       "      <td>6,540</td>\n",
       "    </tr>\n",
       "  </tbody>\n",
       "</table>\n",
       "</div>"
      ],
      "text/plain": [
       "    POS              NOMBRE  PUNTOS\n",
       "0  None                None    None\n",
       "1     1      Novak Djokovic  11,540\n",
       "2     2     Daniil Medvedev   8,640\n",
       "3     3    Alexander Zverev   7,840\n",
       "4     4  Stefanos Tsitsipas   6,540"
      ]
     },
     "execution_count": 26,
     "metadata": {},
     "output_type": "execute_result"
    }
   ],
   "source": [
    "rankings=pd.DataFrame(ranks, columns=cabeceras)\n",
    "\n",
    "rankings.head()"
   ]
  },
  {
   "cell_type": "markdown",
   "id": "ffed984b",
   "metadata": {},
   "source": [
    "### El último archivo se trata de un csv descargado directamente de la página web de kaggle, que ofrece informción sobre los registros de todos los torneos(ATP250, ATP500, MasterMil, Grand Slam...) desde el año 2018 hasta el actual."
   ]
  },
  {
   "cell_type": "code",
   "execution_count": 27,
   "id": "2a30773a",
   "metadata": {},
   "outputs": [],
   "source": [
    "import csv\n",
    "\n",
    "tenis=pd.read_csv('tennis_data.csv')"
   ]
  },
  {
   "cell_type": "code",
   "execution_count": 28,
   "id": "a001e7d5",
   "metadata": {},
   "outputs": [
    {
     "data": {
      "text/html": [
       "<div>\n",
       "<style scoped>\n",
       "    .dataframe tbody tr th:only-of-type {\n",
       "        vertical-align: middle;\n",
       "    }\n",
       "\n",
       "    .dataframe tbody tr th {\n",
       "        vertical-align: top;\n",
       "    }\n",
       "\n",
       "    .dataframe thead th {\n",
       "        text-align: right;\n",
       "    }\n",
       "</style>\n",
       "<table border=\"1\" class=\"dataframe\">\n",
       "  <thead>\n",
       "    <tr style=\"text-align: right;\">\n",
       "      <th></th>\n",
       "      <th>ATP</th>\n",
       "      <th>Location</th>\n",
       "      <th>Tournament</th>\n",
       "      <th>Date</th>\n",
       "      <th>Series</th>\n",
       "      <th>Court</th>\n",
       "      <th>Surface</th>\n",
       "      <th>Round</th>\n",
       "      <th>Best of</th>\n",
       "      <th>Winner</th>\n",
       "      <th>...</th>\n",
       "      <th>pl1_flag</th>\n",
       "      <th>pl1_year_pro</th>\n",
       "      <th>pl1_weight</th>\n",
       "      <th>pl1_height</th>\n",
       "      <th>pl1_hand</th>\n",
       "      <th>pl2_flag</th>\n",
       "      <th>pl2_year_pro</th>\n",
       "      <th>pl2_weight</th>\n",
       "      <th>pl2_height</th>\n",
       "      <th>pl2_hand</th>\n",
       "    </tr>\n",
       "  </thead>\n",
       "  <tbody>\n",
       "    <tr>\n",
       "      <th>0</th>\n",
       "      <td>1</td>\n",
       "      <td>Adelaide</td>\n",
       "      <td>Adelaide International 1</td>\n",
       "      <td>2022-01-03</td>\n",
       "      <td>ATP250</td>\n",
       "      <td>Outdoor</td>\n",
       "      <td>Hard</td>\n",
       "      <td>1st Round</td>\n",
       "      <td>3</td>\n",
       "      <td>Kwon S.W.</td>\n",
       "      <td>...</td>\n",
       "      <td>KOR</td>\n",
       "      <td>2015.0</td>\n",
       "      <td>72.0</td>\n",
       "      <td>180.0</td>\n",
       "      <td>Right-Handed</td>\n",
       "      <td>JPN</td>\n",
       "      <td>2014.0</td>\n",
       "      <td>64.0</td>\n",
       "      <td>170.0</td>\n",
       "      <td>Left-Handed</td>\n",
       "    </tr>\n",
       "    <tr>\n",
       "      <th>1</th>\n",
       "      <td>1</td>\n",
       "      <td>Adelaide</td>\n",
       "      <td>Adelaide International 1</td>\n",
       "      <td>2022-01-03</td>\n",
       "      <td>ATP250</td>\n",
       "      <td>Outdoor</td>\n",
       "      <td>Hard</td>\n",
       "      <td>1st Round</td>\n",
       "      <td>3</td>\n",
       "      <td>Monteiro T.</td>\n",
       "      <td>...</td>\n",
       "      <td>BRA</td>\n",
       "      <td>2011.0</td>\n",
       "      <td>78.0</td>\n",
       "      <td>183.0</td>\n",
       "      <td>Left-Handed</td>\n",
       "      <td>GER</td>\n",
       "      <td>2014.0</td>\n",
       "      <td>80.0</td>\n",
       "      <td>188.0</td>\n",
       "      <td>Right-Handed</td>\n",
       "    </tr>\n",
       "    <tr>\n",
       "      <th>2</th>\n",
       "      <td>1</td>\n",
       "      <td>Adelaide</td>\n",
       "      <td>Adelaide International 1</td>\n",
       "      <td>2022-01-03</td>\n",
       "      <td>ATP250</td>\n",
       "      <td>Outdoor</td>\n",
       "      <td>Hard</td>\n",
       "      <td>1st Round</td>\n",
       "      <td>3</td>\n",
       "      <td>Djere L.</td>\n",
       "      <td>...</td>\n",
       "      <td>SRB</td>\n",
       "      <td>2013.0</td>\n",
       "      <td>80.0</td>\n",
       "      <td>185.0</td>\n",
       "      <td>Right-Handed</td>\n",
       "      <td>ESP</td>\n",
       "      <td>2011.0</td>\n",
       "      <td>76.0</td>\n",
       "      <td>180.0</td>\n",
       "      <td>Right-Handed</td>\n",
       "    </tr>\n",
       "    <tr>\n",
       "      <th>3</th>\n",
       "      <td>1</td>\n",
       "      <td>Adelaide</td>\n",
       "      <td>Adelaide International 1</td>\n",
       "      <td>2022-01-03</td>\n",
       "      <td>ATP250</td>\n",
       "      <td>Outdoor</td>\n",
       "      <td>Hard</td>\n",
       "      <td>1st Round</td>\n",
       "      <td>3</td>\n",
       "      <td>Johnson S.</td>\n",
       "      <td>...</td>\n",
       "      <td>USA</td>\n",
       "      <td>2012.0</td>\n",
       "      <td>86.0</td>\n",
       "      <td>188.0</td>\n",
       "      <td>Right-Handed</td>\n",
       "      <td>AUS</td>\n",
       "      <td>2018.0</td>\n",
       "      <td>85.0</td>\n",
       "      <td>188.0</td>\n",
       "      <td>Right-Handed</td>\n",
       "    </tr>\n",
       "    <tr>\n",
       "      <th>4</th>\n",
       "      <td>1</td>\n",
       "      <td>Adelaide</td>\n",
       "      <td>Adelaide International 1</td>\n",
       "      <td>2022-01-04</td>\n",
       "      <td>ATP250</td>\n",
       "      <td>Outdoor</td>\n",
       "      <td>Hard</td>\n",
       "      <td>1st Round</td>\n",
       "      <td>3</td>\n",
       "      <td>Moutet C.</td>\n",
       "      <td>...</td>\n",
       "      <td>FRA</td>\n",
       "      <td>2016.0</td>\n",
       "      <td>71.0</td>\n",
       "      <td>175.0</td>\n",
       "      <td>Left-Handed</td>\n",
       "      <td>DEN</td>\n",
       "      <td>2020.0</td>\n",
       "      <td>77.0</td>\n",
       "      <td>188.0</td>\n",
       "      <td>Right-Handed</td>\n",
       "    </tr>\n",
       "  </tbody>\n",
       "</table>\n",
       "<p>5 rows × 54 columns</p>\n",
       "</div>"
      ],
      "text/plain": [
       "   ATP  Location                Tournament        Date  Series    Court  \\\n",
       "0    1  Adelaide  Adelaide International 1  2022-01-03  ATP250  Outdoor   \n",
       "1    1  Adelaide  Adelaide International 1  2022-01-03  ATP250  Outdoor   \n",
       "2    1  Adelaide  Adelaide International 1  2022-01-03  ATP250  Outdoor   \n",
       "3    1  Adelaide  Adelaide International 1  2022-01-03  ATP250  Outdoor   \n",
       "4    1  Adelaide  Adelaide International 1  2022-01-04  ATP250  Outdoor   \n",
       "\n",
       "  Surface      Round  Best of       Winner  ... pl1_flag  pl1_year_pro  \\\n",
       "0    Hard  1st Round        3    Kwon S.W.  ...      KOR        2015.0   \n",
       "1    Hard  1st Round        3  Monteiro T.  ...      BRA        2011.0   \n",
       "2    Hard  1st Round        3     Djere L.  ...      SRB        2013.0   \n",
       "3    Hard  1st Round        3   Johnson S.  ...      USA        2012.0   \n",
       "4    Hard  1st Round        3    Moutet C.  ...      FRA        2016.0   \n",
       "\n",
       "   pl1_weight  pl1_height      pl1_hand  pl2_flag  pl2_year_pro  pl2_weight  \\\n",
       "0        72.0       180.0  Right-Handed       JPN        2014.0        64.0   \n",
       "1        78.0       183.0   Left-Handed       GER        2014.0        80.0   \n",
       "2        80.0       185.0  Right-Handed       ESP        2011.0        76.0   \n",
       "3        86.0       188.0  Right-Handed       AUS        2018.0        85.0   \n",
       "4        71.0       175.0   Left-Handed       DEN        2020.0        77.0   \n",
       "\n",
       "   pl2_height      pl2_hand  \n",
       "0       170.0   Left-Handed  \n",
       "1       188.0  Right-Handed  \n",
       "2       180.0  Right-Handed  \n",
       "3       188.0  Right-Handed  \n",
       "4       188.0  Right-Handed  \n",
       "\n",
       "[5 rows x 54 columns]"
      ]
     },
     "execution_count": 28,
     "metadata": {},
     "output_type": "execute_result"
    }
   ],
   "source": [
    "tenis.head()"
   ]
  },
  {
   "cell_type": "code",
   "execution_count": 29,
   "id": "13ecc7b6",
   "metadata": {
    "scrolled": true
   },
   "outputs": [
    {
     "data": {
      "text/plain": [
       "(36120, 54)"
      ]
     },
     "execution_count": 29,
     "metadata": {},
     "output_type": "execute_result"
    }
   ],
   "source": [
    "tenis.shape"
   ]
  },
  {
   "cell_type": "markdown",
   "id": "bc73b403",
   "metadata": {},
   "source": [
    "Se exportan los archivos csv para prodecer a la limpieza de los DF."
   ]
  },
  {
   "cell_type": "code",
   "execution_count": 33,
   "id": "4351afc6",
   "metadata": {},
   "outputs": [],
   "source": [
    "lid_al_saque.to_csv('saque1.csv', index=False) "
   ]
  },
  {
   "cell_type": "code",
   "execution_count": 34,
   "id": "3708a83c",
   "metadata": {},
   "outputs": [],
   "source": [
    "lid_al_resto.to_csv('resto1.csv', index=False) "
   ]
  },
  {
   "cell_type": "code",
   "execution_count": 35,
   "id": "e8cb2603",
   "metadata": {},
   "outputs": [],
   "source": [
    "rankings.to_csv('ranking1.csv', index=False) "
   ]
  },
  {
   "cell_type": "code",
   "execution_count": 36,
   "id": "4c63796e",
   "metadata": {},
   "outputs": [],
   "source": [
    "tenis.to_csv('torneos1.csv', index=False) "
   ]
  },
  {
   "cell_type": "code",
   "execution_count": null,
   "id": "04432cb6",
   "metadata": {},
   "outputs": [],
   "source": []
  }
 ],
 "metadata": {
  "kernelspec": {
   "display_name": "clase",
   "language": "python",
   "name": "clase"
  },
  "language_info": {
   "codemirror_mode": {
    "name": "ipython",
    "version": 3
   },
   "file_extension": ".py",
   "mimetype": "text/x-python",
   "name": "python",
   "nbconvert_exporter": "python",
   "pygments_lexer": "ipython3",
   "version": "3.7.13"
  }
 },
 "nbformat": 4,
 "nbformat_minor": 5
}
